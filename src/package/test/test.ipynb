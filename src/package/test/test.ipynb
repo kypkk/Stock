{
 "cells": [
  {
   "cell_type": "code",
   "execution_count": 94,
   "metadata": {},
   "outputs": [
    {
     "name": "stdout",
     "output_type": "stream",
     "text": [
      "getting tws_20230317 ...\n"
     ]
    },
    {
     "data": {
      "text/plain": [
       "Index(['Stock code', 'Stock name', 'Volume of shares traded',\n",
       "       'Number of transactions', 'Transaction amount', 'Opening price',\n",
       "       'Highest price', 'Lowest price', 'Closing price', 'Price difference',\n",
       "       'PE ratio'],\n",
       "      dtype='object')"
      ]
     },
     "execution_count": 94,
     "metadata": {},
     "output_type": "execute_result"
    }
   ],
   "source": [
    "import pandas as pd\n",
    "import json\n",
    "import requests\n",
    "import datetime\n",
    "from bs4 import BeautifulSoup\n",
    "date_time = datetime.datetime.now()-datetime.timedelta(2)\n",
    "date_time = date_time.strftime(\"%Y%m%d\")\n",
    "url = f\"https://www.twse.com.tw/rwd/zh/afterTrading/MI_INDEX?date={date_time}&type=ALLBUT0999&response=json\"\n",
    "headers = {\n",
    "    \"User-Agent\": \"Mozilla/5.0 (Windows NT 10.0; Win64; x64) AppleWebKit/537.36 (KHTML, like Gecko) Chrome/96.0.4664.45 Safari/537.36\"}\n",
    "print(\"getting tws_{} ...\".format(date_time))\n",
    "response = requests.get(url, headers=headers)\n",
    "table = json.loads(response.text)['tables']\n",
    "field = table[8]['fields']\n",
    "content = table[8]['data']\n",
    "\n",
    "df_dict = dict()\n",
    "for i in range(len(field)):\n",
    "    df_dict[field[i]] = [j[i] for j in content]\n",
    "df= pd.DataFrame(df_dict)\n",
    "df.columns = [\"Stock code\", \"Stock name\", \"Volume of shares traded\", \"Number of transactions\", \"Transaction amount\", \"Opening price\", \"Highest price\", \"Lowest price\", \"Closing price\", \"Price change (+/-)\", \"Price difference\", \"Last displayed buying price\", \"Last displayed buying volume\", \"Last displayed selling price\", \"Last displayed selling volume\", \"PE ratio\"]\n",
    "diff = [BeautifulSoup(x).string for x in df[\"Price difference\"].to_list()]\n",
    "change = [BeautifulSoup(x).string for x in df[\"Price change (+/-)\"].to_list()]\n",
    "Price_difference = []\n",
    "for i in range(len(diff)):\n",
    "    Price_difference.append(change[i] + diff[i])\n",
    "df[\"Price difference\"] = Price_difference\n",
    "df.drop(columns=[\"Price change (+/-)\"],inplace=True)\n",
    "df = df[['Stock code', 'Stock name', 'Volume of shares traded',\n",
    "       'Number of transactions', 'Transaction amount', 'Opening price',\n",
    "       'Highest price', 'Lowest price', 'Closing price', 'Price difference',\n",
    "       'PE ratio']]\n",
    "df.columns = [\"ID\",\"NAME\",\"SHARES_VOLUMN\",\"TRANSACTIONS_NUMBER\",\"TRANSACTION_MONEY\",\"OPEN\",\"HIGH\",\"LOW\",\"CLOSE\",\"DIFF\",\"PE\"]"
   ]
  },
  {
   "cell_type": "code",
   "execution_count": null,
   "metadata": {},
   "outputs": [],
   "source": [
    "y = int(time.strftime(\"%Y\"))-1911\n",
    "date = time.strftime(str(y) + \"/%m/%d\")\n",
    "url = \"https://www.tpex.org.tw/web/stock/aftertrading/otc_quotes_no1430/stk_wn1430_result.php?l=zh-tw&o=htm&d={}&se=EW&s=0,asc,0\".format(\n",
    "    date)\n",
    "headers = {\n",
    "    \"User-Agent\": \"Mozilla/5.0 (Windows NT 10.0; Win64; x64) AppleWebKit/537.36 (KHTML, like Gecko) Chrome/96.0.4664.45 Safari/537.36\"}\n",
    "print('getting te_{} ...'.format(time.strftime('%Y%m%d')))\n",
    "data = requests.get(url, headers=headers)\n",
    "a = data.content.decode('utf-8')\n",
    "b = BeautifulSoup(a, features=\"lxml\")\n",
    "t = b.findAll('tr')\n",
    "arr = []\n",
    "if t[2].findAll(\"td\")[0].string == '共0筆':\n",
    "    print('no data')\n",
    "    raise requests.exceptions.ConnectionError\n",
    "for i in t[1:]:\n",
    "    i = i.findAll(\"td\")\n",
    "    arr.append([x.string for x in i])\n",
    "df = pd.DataFrame(arr)\n",
    "df.columns = df.iloc[0]"
   ]
  },
  {
   "cell_type": "code",
   "execution_count": 96,
   "metadata": {},
   "outputs": [
    {
     "data": {
      "text/plain": [
       "Index(['ID', 'NAME', 'SHARES_VOLUMN', 'TRANSACTIONS_NUMBER',\n",
       "       'TRANSACTION_MONEY', 'OPEN', 'HIGH', 'LOW', 'CLOSE', 'DIFF', 'PE'],\n",
       "      dtype='object')"
      ]
     },
     "execution_count": 96,
     "metadata": {},
     "output_type": "execute_result"
    }
   ],
   "source": []
  }
 ],
 "metadata": {
  "kernelspec": {
   "display_name": "env",
   "language": "python",
   "name": "python3"
  },
  "language_info": {
   "codemirror_mode": {
    "name": "ipython",
    "version": 3
   },
   "file_extension": ".py",
   "mimetype": "text/x-python",
   "name": "python",
   "nbconvert_exporter": "python",
   "pygments_lexer": "ipython3",
   "version": "3.9.8"
  },
  "orig_nbformat": 4
 },
 "nbformat": 4,
 "nbformat_minor": 2
}
